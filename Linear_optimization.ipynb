{
 "cells": [
  {
   "cell_type": "code",
   "execution_count": 1,
   "metadata": {},
   "outputs": [],
   "source": [
    "import pandas as pd \n",
    "import numpy as np\n",
    "from scipy.optimize import linprog \n",
    "import copy"
   ]
  },
  {
   "cell_type": "code",
   "execution_count": 2,
   "metadata": {},
   "outputs": [],
   "source": [
    "data = pd.read_csv('data.csv', sep=';')"
   ]
  },
  {
   "cell_type": "code",
   "execution_count": 3,
   "metadata": {
    "scrolled": false
   },
   "outputs": [
    {
     "data": {
      "text/html": [
       "<div>\n",
       "<style scoped>\n",
       "    .dataframe tbody tr th:only-of-type {\n",
       "        vertical-align: middle;\n",
       "    }\n",
       "\n",
       "    .dataframe tbody tr th {\n",
       "        vertical-align: top;\n",
       "    }\n",
       "\n",
       "    .dataframe thead th {\n",
       "        text-align: right;\n",
       "    }\n",
       "</style>\n",
       "<table border=\"1\" class=\"dataframe\">\n",
       "  <thead>\n",
       "    <tr style=\"text-align: right;\">\n",
       "      <th></th>\n",
       "      <th>Product Name</th>\n",
       "      <th>Production Unit Name</th>\n",
       "      <th>Currency</th>\n",
       "      <th>Production Plan</th>\n",
       "      <th>Planned Sale price</th>\n",
       "      <th>Price -  Model Curr(USD)</th>\n",
       "      <th>Material Cost</th>\n",
       "      <th>Marginal profit per unit</th>\n",
       "      <th>Total marginal profit</th>\n",
       "      <th>Min production lot restrictions</th>\n",
       "      <th>Contract minimum</th>\n",
       "      <th>Market maximum</th>\n",
       "    </tr>\n",
       "  </thead>\n",
       "  <tbody>\n",
       "    <tr>\n",
       "      <th>0</th>\n",
       "      <td>Candies  \"Hazelnuts\". 0.25 kg</td>\n",
       "      <td>Candies</td>\n",
       "      <td>TRY</td>\n",
       "      <td>8200.0</td>\n",
       "      <td>31.406</td>\n",
       "      <td>2.293</td>\n",
       "      <td>1.335</td>\n",
       "      <td>0.958</td>\n",
       "      <td>7856.980</td>\n",
       "      <td>100</td>\n",
       "      <td>100</td>\n",
       "      <td>15000</td>\n",
       "    </tr>\n",
       "    <tr>\n",
       "      <th>1</th>\n",
       "      <td>Candies  \"Hazelnuts\". 0.25 kg</td>\n",
       "      <td>Candies</td>\n",
       "      <td>EUR</td>\n",
       "      <td>100.0</td>\n",
       "      <td>2.021</td>\n",
       "      <td>2.284</td>\n",
       "      <td>1.335</td>\n",
       "      <td>0.950</td>\n",
       "      <td>94.959</td>\n",
       "      <td>100</td>\n",
       "      <td>0</td>\n",
       "      <td>10000</td>\n",
       "    </tr>\n",
       "  </tbody>\n",
       "</table>\n",
       "</div>"
      ],
      "text/plain": [
       "                    Product Name Production Unit Name Currency  \\\n",
       "0  Candies  \"Hazelnuts\". 0.25 kg              Candies      TRY   \n",
       "1  Candies  \"Hazelnuts\". 0.25 kg              Candies      EUR   \n",
       "\n",
       "   Production Plan  Planned Sale price  Price -  Model Curr(USD)  \\\n",
       "0           8200.0              31.406                     2.293   \n",
       "1            100.0               2.021                     2.284   \n",
       "\n",
       "   Material Cost  Marginal profit per unit  Total marginal profit  \\\n",
       "0          1.335                     0.958               7856.980   \n",
       "1          1.335                     0.950                 94.959   \n",
       "\n",
       "   Min production lot restrictions  Contract minimum  Market maximum  \n",
       "0                              100               100           15000  \n",
       "1                              100                 0           10000  "
      ]
     },
     "execution_count": 3,
     "metadata": {},
     "output_type": "execute_result"
    }
   ],
   "source": [
    "data.head(2)"
   ]
  },
  {
   "cell_type": "code",
   "execution_count": 4,
   "metadata": {
    "scrolled": true
   },
   "outputs": [
    {
     "name": "stdout",
     "output_type": "stream",
     "text": [
      "38158.94800000001\n"
     ]
    }
   ],
   "source": [
    "sum_total_marginal_profit = sum(data['Total marginal profit'])\n",
    "print(sum_total_marginal_profit)"
   ]
  },
  {
   "cell_type": "code",
   "execution_count": 5,
   "metadata": {},
   "outputs": [
    {
     "data": {
      "text/plain": [
       "(12000.0, 5000.0, 9999.996000000001)"
      ]
     },
     "execution_count": 5,
     "metadata": {},
     "output_type": "execute_result"
    }
   ],
   "source": [
    "sum_candies = sum(data[data['Production Unit Name'] == 'Candies']['Production Plan'])\n",
    "sum_lolipops = sum(data[data['Production Unit Name'] == 'Lollipops']['Production Plan'])\n",
    "sum_dragee = sum(data[data['Production Unit Name'] == 'Dragee']['Production Plan'])\n",
    "\n",
    "sum_candies, sum_lolipops, sum_dragee"
   ]
  },
  {
   "cell_type": "markdown",
   "metadata": {},
   "source": [
    "## Candies"
   ]
  },
  {
   "cell_type": "code",
   "execution_count": 6,
   "metadata": {},
   "outputs": [],
   "source": [
    "def optimise_candies(method):\n",
    "    data_1 = data[data['Production Unit Name'] == 'Candies']\n",
    "    MarginPPU = data_1['Marginal profit per unit']\n",
    "    c = -MarginPPU\n",
    "    B = []\n",
    "    for b in range(len(data_1)):\n",
    "        B.append(max(np.array(data_1['Min production lot restrictions'])[b], np.array(data_1['Contract minimum'])[b]))\n",
    "    B = pd.Series(B)\n",
    "    bounds = [(b, None) for b in B]\n",
    "    A_ub = np.eye(len(data_1))\n",
    "    b_ub = np.array(data_1['Market maximum'])\n",
    "    A_eq = np.ones(len(data_1)).reshape(1, -1)\n",
    "    b_eq = 12000\n",
    "    res_1 = linprog(c, A_ub=A_ub, b_ub=b_ub, A_eq=A_eq, b_eq=b_eq, bounds=bounds, method=method)\n",
    "    return res_1"
   ]
  },
  {
   "cell_type": "markdown",
   "metadata": {},
   "source": [
    "## Lollipops\n"
   ]
  },
  {
   "cell_type": "code",
   "execution_count": 7,
   "metadata": {},
   "outputs": [],
   "source": [
    "def optimise_lollipops(method):\n",
    "    data_2 = data[data['Production Unit Name'] == 'Lollipops']\n",
    "    MarginPPU_2 = data_2['Marginal profit per unit']\n",
    "    c_2= -MarginPPU_2\n",
    "    B_2 = []\n",
    "    for b in range(len(data_2)):\n",
    "        B_2.append(max(np.array(data_2['Min production lot restrictions'])[b], np.array(data_2['Contract minimum'])[b]))\n",
    "    B_2 = pd.Series(B_2)\n",
    "\n",
    "    bounds_2 = [(b, None) for b in B_2]\n",
    "\n",
    "    A_ub_2 = np.eye(len(data_2))\n",
    "    b_ub_2 = np.array(data_2['Market maximum'])\n",
    "    A_eq_2 = np.ones(len(data_2)).reshape(1, -1)\n",
    "    b_eq_2 = 5000\n",
    "    res_2 = linprog(c_2, A_ub=A_ub_2, b_ub=b_ub_2, A_eq=A_eq_2, b_eq=b_eq_2, bounds=bounds_2, method=method)\n",
    "    return res_2"
   ]
  },
  {
   "cell_type": "markdown",
   "metadata": {},
   "source": [
    "## Dragee "
   ]
  },
  {
   "cell_type": "code",
   "execution_count": 8,
   "metadata": {},
   "outputs": [],
   "source": [
    "def optimise_dragee(method):\n",
    "    data_3 = data[data['Production Unit Name'] == 'Dragee']\n",
    "    MarginPPU_3 = data_3['Marginal profit per unit']\n",
    "    c_3= -MarginPPU_3\n",
    "    B_3 = []\n",
    "    for b in range(len(data_3)):\n",
    "        B_3.append(max(np.array(data_3['Min production lot restrictions'])[b], np.array(data_3['Contract minimum'])[b]))\n",
    "    B_3 = pd.Series(B_3)\n",
    "\n",
    "    bounds_3 = [(b, None) for b in B_3]\n",
    "\n",
    "    A_ub_3 = np.eye(len(data_3))\n",
    "    b_ub_3 = np.array(data_3['Market maximum'])\n",
    "    A_eq_3 = np.ones(len(data_3)).reshape(1, -1)\n",
    "    b_eq_3 = 10000\n",
    "    res_3 = linprog(c_3, A_ub=A_ub_3, b_ub=b_ub_3, A_eq=A_eq_3, b_eq=b_eq_3, bounds=bounds_3, method=method)\n",
    "    return res_3"
   ]
  },
  {
   "cell_type": "markdown",
   "metadata": {},
   "source": [
    "## Result"
   ]
  },
  {
   "cell_type": "code",
   "execution_count": 9,
   "metadata": {},
   "outputs": [],
   "source": [
    "def optimise(method='interior-point'):\n",
    "    res_1 = optimise_candies(method)\n",
    "    res_2 = optimise_lollipops(method)\n",
    "    res_3 = optimise_dragee(method)\n",
    "    X = np.concatenate((res_1.x, res_2.x,res_3.x), axis=0)\n",
    "    copy_of_data = copy.deepcopy(data)\n",
    "    copy_of_data['Production Plan'] = X\n",
    "    copy_of_data['Production Plan'] = copy_of_data['Production Plan'].astype(int)\n",
    "\n",
    "    copy_of_data['Total marginal profit'] = copy_of_data['Production Plan'] * copy_of_data['Marginal profit per unit']\n",
    "    print('Sum Total marginal profit : ',sum(copy_of_data['Total marginal profit']))\n",
    "\n",
    "    sum_candies = sum(copy_of_data[copy_of_data['Production Unit Name'] == 'Candies']['Production Plan'])\n",
    "    sum_lolipops = sum(copy_of_data[copy_of_data['Production Unit Name'] == 'Lollipops']['Production Plan'])\n",
    "    sum_dragee = sum(copy_of_data[copy_of_data['Production Unit Name'] == 'Dragee']['Production Plan'])\n",
    "\n",
    "    print('Check out count of elements {} : Candies, {} : Lollipops, {} : Dragee'.format(sum_candies, sum_lolipops, sum_dragee))\n",
    "    print('Optimisation method : {}'.format(method))\n"
   ]
  },
  {
   "cell_type": "code",
   "execution_count": 10,
   "metadata": {
    "scrolled": true
   },
   "outputs": [
    {
     "name": "stdout",
     "output_type": "stream",
     "text": [
      "Sum Total marginal profit :  38147.98599999999\n",
      "Check out count of elements 11996 : Candies, 4997 : Lollipops, 9998 : Dragee\n",
      "Optimisation method : interior-point\n"
     ]
    }
   ],
   "source": [
    "optimise()"
   ]
  },
  {
   "cell_type": "code",
   "execution_count": 11,
   "metadata": {},
   "outputs": [
    {
     "name": "stdout",
     "output_type": "stream",
     "text": [
      "Sum Total marginal profit :  38161.25\n",
      "Check out count of elements 12000 : Candies, 5000 : Lollipops, 10000 : Dragee\n",
      "Optimisation method : revised simplex\n"
     ]
    }
   ],
   "source": [
    "optimise(method='revised simplex')"
   ]
  },
  {
   "cell_type": "code",
   "execution_count": 12,
   "metadata": {},
   "outputs": [
    {
     "name": "stdout",
     "output_type": "stream",
     "text": [
      "Sum Total marginal profit :  38161.25\n",
      "Check out count of elements 12000 : Candies, 5000 : Lollipops, 10000 : Dragee\n",
      "Optimisation method : highs\n"
     ]
    }
   ],
   "source": [
    "optimise(method='highs')"
   ]
  },
  {
   "cell_type": "code",
   "execution_count": 13,
   "metadata": {},
   "outputs": [
    {
     "name": "stdout",
     "output_type": "stream",
     "text": [
      "Sum Total marginal profit :  38161.25\n",
      "Check out count of elements 12000 : Candies, 5000 : Lollipops, 10000 : Dragee\n",
      "Optimisation method : simplex\n"
     ]
    }
   ],
   "source": [
    "optimise(method='simplex')"
   ]
  }
 ],
 "metadata": {
  "kernelspec": {
   "display_name": "Python 3",
   "language": "python",
   "name": "python3"
  },
  "language_info": {
   "codemirror_mode": {
    "name": "ipython",
    "version": 3
   },
   "file_extension": ".py",
   "mimetype": "text/x-python",
   "name": "python",
   "nbconvert_exporter": "python",
   "pygments_lexer": "ipython3",
   "version": "3.8.5"
  }
 },
 "nbformat": 4,
 "nbformat_minor": 4
}
