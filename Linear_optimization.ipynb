{
 "cells": [
  {
   "cell_type": "code",
   "execution_count": 1,
   "metadata": {},
   "outputs": [],
   "source": [
    "import pandas as pd \n",
    "import numpy as np\n",
    "from scipy.optimize import linprog "
   ]
  },
  {
   "cell_type": "code",
   "execution_count": 2,
   "metadata": {},
   "outputs": [],
   "source": [
    "data = pd.read_csv('data.csv', sep=';')"
   ]
  },
  {
   "cell_type": "code",
   "execution_count": 3,
   "metadata": {},
   "outputs": [
    {
     "data": {
      "text/html": [
       "<div>\n",
       "<style scoped>\n",
       "    .dataframe tbody tr th:only-of-type {\n",
       "        vertical-align: middle;\n",
       "    }\n",
       "\n",
       "    .dataframe tbody tr th {\n",
       "        vertical-align: top;\n",
       "    }\n",
       "\n",
       "    .dataframe thead th {\n",
       "        text-align: right;\n",
       "    }\n",
       "</style>\n",
       "<table border=\"1\" class=\"dataframe\">\n",
       "  <thead>\n",
       "    <tr style=\"text-align: right;\">\n",
       "      <th></th>\n",
       "      <th>Product Name</th>\n",
       "      <th>Production Unit Name</th>\n",
       "      <th>Currency</th>\n",
       "      <th>Production Plan</th>\n",
       "      <th>Planned Sale price</th>\n",
       "      <th>Price -  Model Curr(USD)</th>\n",
       "      <th>Material Cost</th>\n",
       "      <th>Marginal profit per unit</th>\n",
       "      <th>Total marginal profit</th>\n",
       "      <th>Min production lot restrictions</th>\n",
       "      <th>Contract minimum</th>\n",
       "      <th>Market maximum</th>\n",
       "    </tr>\n",
       "  </thead>\n",
       "  <tbody>\n",
       "    <tr>\n",
       "      <th>0</th>\n",
       "      <td>Candies  \"Hazelnuts\". 0.25 kg</td>\n",
       "      <td>Candies</td>\n",
       "      <td>TRY</td>\n",
       "      <td>8200.0</td>\n",
       "      <td>31.406</td>\n",
       "      <td>2.293</td>\n",
       "      <td>1.335</td>\n",
       "      <td>0.958</td>\n",
       "      <td>7856.980</td>\n",
       "      <td>100</td>\n",
       "      <td>100</td>\n",
       "      <td>15000</td>\n",
       "    </tr>\n",
       "    <tr>\n",
       "      <th>1</th>\n",
       "      <td>Candies  \"Hazelnuts\". 0.25 kg</td>\n",
       "      <td>Candies</td>\n",
       "      <td>EUR</td>\n",
       "      <td>100.0</td>\n",
       "      <td>2.021</td>\n",
       "      <td>2.284</td>\n",
       "      <td>1.335</td>\n",
       "      <td>0.950</td>\n",
       "      <td>94.959</td>\n",
       "      <td>100</td>\n",
       "      <td>0</td>\n",
       "      <td>10000</td>\n",
       "    </tr>\n",
       "    <tr>\n",
       "      <th>2</th>\n",
       "      <td>Candies  \"Hazelnuts\". 0.25 kg</td>\n",
       "      <td>Candies</td>\n",
       "      <td>USD</td>\n",
       "      <td>100.0</td>\n",
       "      <td>2.283</td>\n",
       "      <td>2.283</td>\n",
       "      <td>1.335</td>\n",
       "      <td>0.948</td>\n",
       "      <td>94.834</td>\n",
       "      <td>100</td>\n",
       "      <td>100</td>\n",
       "      <td>5000</td>\n",
       "    </tr>\n",
       "    <tr>\n",
       "      <th>3</th>\n",
       "      <td>Candies  \"Cashews\". 0.25 kg</td>\n",
       "      <td>Candies</td>\n",
       "      <td>TRY</td>\n",
       "      <td>1500.0</td>\n",
       "      <td>45.777</td>\n",
       "      <td>3.342</td>\n",
       "      <td>1.925</td>\n",
       "      <td>1.417</td>\n",
       "      <td>2125.330</td>\n",
       "      <td>100</td>\n",
       "      <td>150</td>\n",
       "      <td>1500</td>\n",
       "    </tr>\n",
       "    <tr>\n",
       "      <th>4</th>\n",
       "      <td>Candies  \"Cashews\". 0.25 kg</td>\n",
       "      <td>Candies</td>\n",
       "      <td>EUR</td>\n",
       "      <td>800.0</td>\n",
       "      <td>2.946</td>\n",
       "      <td>3.329</td>\n",
       "      <td>1.925</td>\n",
       "      <td>1.404</td>\n",
       "      <td>1123.500</td>\n",
       "      <td>100</td>\n",
       "      <td>0</td>\n",
       "      <td>800</td>\n",
       "    </tr>\n",
       "  </tbody>\n",
       "</table>\n",
       "</div>"
      ],
      "text/plain": [
       "                    Product Name Production Unit Name Currency  \\\n",
       "0  Candies  \"Hazelnuts\". 0.25 kg              Candies      TRY   \n",
       "1  Candies  \"Hazelnuts\". 0.25 kg              Candies      EUR   \n",
       "2  Candies  \"Hazelnuts\". 0.25 kg              Candies      USD   \n",
       "3    Candies  \"Cashews\". 0.25 kg              Candies      TRY   \n",
       "4    Candies  \"Cashews\". 0.25 kg              Candies      EUR   \n",
       "\n",
       "   Production Plan  Planned Sale price  Price -  Model Curr(USD)  \\\n",
       "0           8200.0              31.406                     2.293   \n",
       "1            100.0               2.021                     2.284   \n",
       "2            100.0               2.283                     2.283   \n",
       "3           1500.0              45.777                     3.342   \n",
       "4            800.0               2.946                     3.329   \n",
       "\n",
       "   Material Cost  Marginal profit per unit  Total marginal profit  \\\n",
       "0          1.335                     0.958               7856.980   \n",
       "1          1.335                     0.950                 94.959   \n",
       "2          1.335                     0.948                 94.834   \n",
       "3          1.925                     1.417               2125.330   \n",
       "4          1.925                     1.404               1123.500   \n",
       "\n",
       "   Min production lot restrictions  Contract minimum  Market maximum  \n",
       "0                              100               100           15000  \n",
       "1                              100                 0           10000  \n",
       "2                              100               100            5000  \n",
       "3                              100               150            1500  \n",
       "4                              100                 0             800  "
      ]
     },
     "execution_count": 3,
     "metadata": {},
     "output_type": "execute_result"
    }
   ],
   "source": [
    "data.head(5)"
   ]
  },
  {
   "cell_type": "code",
   "execution_count": 4,
   "metadata": {
    "scrolled": true
   },
   "outputs": [
    {
     "name": "stdout",
     "output_type": "stream",
     "text": [
      "38158.94800000001\n"
     ]
    }
   ],
   "source": [
    "sum_total_marginal_profit = sum(data['Total marginal profit'])\n",
    "print(sum_total_marginal_profit)"
   ]
  },
  {
   "cell_type": "code",
   "execution_count": 5,
   "metadata": {
    "scrolled": true
   },
   "outputs": [
    {
     "data": {
      "text/plain": [
       "Product Name                        object\n",
       "Production Unit Name                object\n",
       "Currency                            object\n",
       "Production Plan                    float64\n",
       "Planned Sale price                 float64\n",
       "Price -  Model Curr(USD)           float64\n",
       "Material Cost                      float64\n",
       "Marginal profit per unit           float64\n",
       "Total marginal profit              float64\n",
       "Min production lot restrictions      int64\n",
       "Contract minimum                     int64\n",
       "Market maximum                       int64\n",
       "dtype: object"
      ]
     },
     "execution_count": 5,
     "metadata": {},
     "output_type": "execute_result"
    }
   ],
   "source": [
    "data.dtypes"
   ]
  },
  {
   "cell_type": "code",
   "execution_count": 6,
   "metadata": {},
   "outputs": [],
   "source": [
    "sum_candies = sum(data[data['Production Unit Name'] == 'Candies']['Production Plan'])\n",
    "sum_lolipops = sum(data[data['Production Unit Name'] == 'Lollipops']['Production Plan'])\n",
    "sum_dragee = sum(data[data['Production Unit Name'] == 'Dragee']['Production Plan'])"
   ]
  },
  {
   "cell_type": "code",
   "execution_count": 7,
   "metadata": {},
   "outputs": [
    {
     "data": {
      "text/plain": [
       "(12000.0, 5000.0, 9999.996000000001)"
      ]
     },
     "execution_count": 7,
     "metadata": {},
     "output_type": "execute_result"
    }
   ],
   "source": [
    "sum_candies, sum_lolipops, sum_dragee"
   ]
  },
  {
   "cell_type": "code",
   "execution_count": 8,
   "metadata": {},
   "outputs": [],
   "source": [
    "data_1 = data[data['Production Unit Name'] == 'Candies']\n",
    "MarginPPU = data_1['Marginal profit per unit']"
   ]
  },
  {
   "cell_type": "code",
   "execution_count": 9,
   "metadata": {
    "scrolled": true
   },
   "outputs": [
    {
     "data": {
      "text/html": [
       "<div>\n",
       "<style scoped>\n",
       "    .dataframe tbody tr th:only-of-type {\n",
       "        vertical-align: middle;\n",
       "    }\n",
       "\n",
       "    .dataframe tbody tr th {\n",
       "        vertical-align: top;\n",
       "    }\n",
       "\n",
       "    .dataframe thead th {\n",
       "        text-align: right;\n",
       "    }\n",
       "</style>\n",
       "<table border=\"1\" class=\"dataframe\">\n",
       "  <thead>\n",
       "    <tr style=\"text-align: right;\">\n",
       "      <th></th>\n",
       "      <th>Product Name</th>\n",
       "      <th>Production Unit Name</th>\n",
       "      <th>Currency</th>\n",
       "      <th>Production Plan</th>\n",
       "      <th>Planned Sale price</th>\n",
       "      <th>Price -  Model Curr(USD)</th>\n",
       "      <th>Material Cost</th>\n",
       "      <th>Marginal profit per unit</th>\n",
       "      <th>Total marginal profit</th>\n",
       "      <th>Min production lot restrictions</th>\n",
       "      <th>Contract minimum</th>\n",
       "      <th>Market maximum</th>\n",
       "    </tr>\n",
       "  </thead>\n",
       "  <tbody>\n",
       "    <tr>\n",
       "      <th>0</th>\n",
       "      <td>Candies  \"Hazelnuts\". 0.25 kg</td>\n",
       "      <td>Candies</td>\n",
       "      <td>TRY</td>\n",
       "      <td>8200.0</td>\n",
       "      <td>31.406</td>\n",
       "      <td>2.293</td>\n",
       "      <td>1.335</td>\n",
       "      <td>0.958</td>\n",
       "      <td>7856.980</td>\n",
       "      <td>100</td>\n",
       "      <td>100</td>\n",
       "      <td>15000</td>\n",
       "    </tr>\n",
       "    <tr>\n",
       "      <th>1</th>\n",
       "      <td>Candies  \"Hazelnuts\". 0.25 kg</td>\n",
       "      <td>Candies</td>\n",
       "      <td>EUR</td>\n",
       "      <td>100.0</td>\n",
       "      <td>2.021</td>\n",
       "      <td>2.284</td>\n",
       "      <td>1.335</td>\n",
       "      <td>0.950</td>\n",
       "      <td>94.959</td>\n",
       "      <td>100</td>\n",
       "      <td>0</td>\n",
       "      <td>10000</td>\n",
       "    </tr>\n",
       "    <tr>\n",
       "      <th>2</th>\n",
       "      <td>Candies  \"Hazelnuts\". 0.25 kg</td>\n",
       "      <td>Candies</td>\n",
       "      <td>USD</td>\n",
       "      <td>100.0</td>\n",
       "      <td>2.283</td>\n",
       "      <td>2.283</td>\n",
       "      <td>1.335</td>\n",
       "      <td>0.948</td>\n",
       "      <td>94.834</td>\n",
       "      <td>100</td>\n",
       "      <td>100</td>\n",
       "      <td>5000</td>\n",
       "    </tr>\n",
       "    <tr>\n",
       "      <th>3</th>\n",
       "      <td>Candies  \"Cashews\". 0.25 kg</td>\n",
       "      <td>Candies</td>\n",
       "      <td>TRY</td>\n",
       "      <td>1500.0</td>\n",
       "      <td>45.777</td>\n",
       "      <td>3.342</td>\n",
       "      <td>1.925</td>\n",
       "      <td>1.417</td>\n",
       "      <td>2125.330</td>\n",
       "      <td>100</td>\n",
       "      <td>150</td>\n",
       "      <td>1500</td>\n",
       "    </tr>\n",
       "    <tr>\n",
       "      <th>4</th>\n",
       "      <td>Candies  \"Cashews\". 0.25 kg</td>\n",
       "      <td>Candies</td>\n",
       "      <td>EUR</td>\n",
       "      <td>800.0</td>\n",
       "      <td>2.946</td>\n",
       "      <td>3.329</td>\n",
       "      <td>1.925</td>\n",
       "      <td>1.404</td>\n",
       "      <td>1123.500</td>\n",
       "      <td>100</td>\n",
       "      <td>0</td>\n",
       "      <td>800</td>\n",
       "    </tr>\n",
       "    <tr>\n",
       "      <th>5</th>\n",
       "      <td>Candies  \"Cashews\". 0.25 kg</td>\n",
       "      <td>Candies</td>\n",
       "      <td>USD</td>\n",
       "      <td>1000.0</td>\n",
       "      <td>3.327</td>\n",
       "      <td>3.327</td>\n",
       "      <td>1.925</td>\n",
       "      <td>1.403</td>\n",
       "      <td>1402.560</td>\n",
       "      <td>100</td>\n",
       "      <td>200</td>\n",
       "      <td>1000</td>\n",
       "    </tr>\n",
       "    <tr>\n",
       "      <th>6</th>\n",
       "      <td>Candies  \"Pistachios\". 0.25 kg</td>\n",
       "      <td>Candies</td>\n",
       "      <td>TRY</td>\n",
       "      <td>100.0</td>\n",
       "      <td>48.719</td>\n",
       "      <td>3.557</td>\n",
       "      <td>3.307</td>\n",
       "      <td>0.249</td>\n",
       "      <td>24.944</td>\n",
       "      <td>100</td>\n",
       "      <td>50</td>\n",
       "      <td>1500</td>\n",
       "    </tr>\n",
       "    <tr>\n",
       "      <th>7</th>\n",
       "      <td>Candies  \"Pistachios\". 0.25 kg</td>\n",
       "      <td>Candies</td>\n",
       "      <td>EUR</td>\n",
       "      <td>100.0</td>\n",
       "      <td>3.136</td>\n",
       "      <td>3.543</td>\n",
       "      <td>3.307</td>\n",
       "      <td>0.236</td>\n",
       "      <td>23.613</td>\n",
       "      <td>100</td>\n",
       "      <td>0</td>\n",
       "      <td>900</td>\n",
       "    </tr>\n",
       "    <tr>\n",
       "      <th>8</th>\n",
       "      <td>Candies  \"Pistachios\". 0.25 kg</td>\n",
       "      <td>Candies</td>\n",
       "      <td>USD</td>\n",
       "      <td>100.0</td>\n",
       "      <td>3.541</td>\n",
       "      <td>3.541</td>\n",
       "      <td>3.307</td>\n",
       "      <td>0.234</td>\n",
       "      <td>23.419</td>\n",
       "      <td>100</td>\n",
       "      <td>50</td>\n",
       "      <td>2000</td>\n",
       "    </tr>\n",
       "  </tbody>\n",
       "</table>\n",
       "</div>"
      ],
      "text/plain": [
       "                     Product Name Production Unit Name Currency  \\\n",
       "0   Candies  \"Hazelnuts\". 0.25 kg              Candies      TRY   \n",
       "1   Candies  \"Hazelnuts\". 0.25 kg              Candies      EUR   \n",
       "2   Candies  \"Hazelnuts\". 0.25 kg              Candies      USD   \n",
       "3     Candies  \"Cashews\". 0.25 kg              Candies      TRY   \n",
       "4     Candies  \"Cashews\". 0.25 kg              Candies      EUR   \n",
       "5     Candies  \"Cashews\". 0.25 kg              Candies      USD   \n",
       "6  Candies  \"Pistachios\". 0.25 kg              Candies      TRY   \n",
       "7  Candies  \"Pistachios\". 0.25 kg              Candies      EUR   \n",
       "8  Candies  \"Pistachios\". 0.25 kg              Candies      USD   \n",
       "\n",
       "   Production Plan  Planned Sale price  Price -  Model Curr(USD)  \\\n",
       "0           8200.0              31.406                     2.293   \n",
       "1            100.0               2.021                     2.284   \n",
       "2            100.0               2.283                     2.283   \n",
       "3           1500.0              45.777                     3.342   \n",
       "4            800.0               2.946                     3.329   \n",
       "5           1000.0               3.327                     3.327   \n",
       "6            100.0              48.719                     3.557   \n",
       "7            100.0               3.136                     3.543   \n",
       "8            100.0               3.541                     3.541   \n",
       "\n",
       "   Material Cost  Marginal profit per unit  Total marginal profit  \\\n",
       "0          1.335                     0.958               7856.980   \n",
       "1          1.335                     0.950                 94.959   \n",
       "2          1.335                     0.948                 94.834   \n",
       "3          1.925                     1.417               2125.330   \n",
       "4          1.925                     1.404               1123.500   \n",
       "5          1.925                     1.403               1402.560   \n",
       "6          3.307                     0.249                 24.944   \n",
       "7          3.307                     0.236                 23.613   \n",
       "8          3.307                     0.234                 23.419   \n",
       "\n",
       "   Min production lot restrictions  Contract minimum  Market maximum  \n",
       "0                              100               100           15000  \n",
       "1                              100                 0           10000  \n",
       "2                              100               100            5000  \n",
       "3                              100               150            1500  \n",
       "4                              100                 0             800  \n",
       "5                              100               200            1000  \n",
       "6                              100                50            1500  \n",
       "7                              100                 0             900  \n",
       "8                              100                50            2000  "
      ]
     },
     "execution_count": 9,
     "metadata": {},
     "output_type": "execute_result"
    }
   ],
   "source": [
    "data_1"
   ]
  },
  {
   "cell_type": "code",
   "execution_count": 29,
   "metadata": {},
   "outputs": [],
   "source": [
    "c = -data_1['Production Plan']\n",
    "c = pd.to_numeric(c)"
   ]
  },
  {
   "cell_type": "code",
   "execution_count": 11,
   "metadata": {},
   "outputs": [],
   "source": [
    "B = []\n",
    "for b in range(len(data_1)):\n",
    "    B.append(max(data_1['Min production lot restrictions'][b], data_1['Contract minimum'][b]))\n",
    "B = pd.Series(B)\n",
    "\n",
    "bounds = [(b, None) for b in B]"
   ]
  },
  {
   "cell_type": "code",
   "execution_count": 12,
   "metadata": {},
   "outputs": [
    {
     "data": {
      "text/plain": [
       "0   -0.958\n",
       "1   -0.950\n",
       "2   -0.948\n",
       "3   -1.417\n",
       "4   -1.404\n",
       "5   -1.403\n",
       "6   -0.249\n",
       "7   -0.236\n",
       "8   -0.234\n",
       "Name: Marginal profit per unit, dtype: float64"
      ]
     },
     "execution_count": 12,
     "metadata": {},
     "output_type": "execute_result"
    }
   ],
   "source": [
    "-MarginPPU"
   ]
  },
  {
   "cell_type": "code",
   "execution_count": 13,
   "metadata": {},
   "outputs": [],
   "source": [
    "A_ub = np.diag(MarginPPU)"
   ]
  },
  {
   "cell_type": "code",
   "execution_count": 20,
   "metadata": {},
   "outputs": [
    {
     "data": {
      "text/plain": [
       "array([[0.958, 0.   , 0.   , 0.   , 0.   , 0.   , 0.   , 0.   , 0.   ],\n",
       "       [0.   , 0.95 , 0.   , 0.   , 0.   , 0.   , 0.   , 0.   , 0.   ],\n",
       "       [0.   , 0.   , 0.948, 0.   , 0.   , 0.   , 0.   , 0.   , 0.   ],\n",
       "       [0.   , 0.   , 0.   , 1.417, 0.   , 0.   , 0.   , 0.   , 0.   ],\n",
       "       [0.   , 0.   , 0.   , 0.   , 1.404, 0.   , 0.   , 0.   , 0.   ],\n",
       "       [0.   , 0.   , 0.   , 0.   , 0.   , 1.403, 0.   , 0.   , 0.   ],\n",
       "       [0.   , 0.   , 0.   , 0.   , 0.   , 0.   , 0.249, 0.   , 0.   ],\n",
       "       [0.   , 0.   , 0.   , 0.   , 0.   , 0.   , 0.   , 0.236, 0.   ],\n",
       "       [0.   , 0.   , 0.   , 0.   , 0.   , 0.   , 0.   , 0.   , 0.234]])"
      ]
     },
     "execution_count": 20,
     "metadata": {},
     "output_type": "execute_result"
    }
   ],
   "source": [
    "A_ub"
   ]
  },
  {
   "cell_type": "code",
   "execution_count": 14,
   "metadata": {},
   "outputs": [],
   "source": [
    "b_ub = np.array(data_1['Market maximum'])"
   ]
  },
  {
   "cell_type": "code",
   "execution_count": 21,
   "metadata": {},
   "outputs": [
    {
     "data": {
      "text/plain": [
       "array([15000, 10000,  5000,  1500,   800,  1000,  1500,   900,  2000],\n",
       "      dtype=int64)"
      ]
     },
     "execution_count": 21,
     "metadata": {},
     "output_type": "execute_result"
    }
   ],
   "source": [
    "b_ub"
   ]
  },
  {
   "cell_type": "code",
   "execution_count": 15,
   "metadata": {},
   "outputs": [],
   "source": [
    "A_eq = np.array(MarginPPU).reshape(1, -1)"
   ]
  },
  {
   "cell_type": "code",
   "execution_count": 22,
   "metadata": {},
   "outputs": [
    {
     "data": {
      "text/plain": [
       "array([[0.958, 0.95 , 0.948, 1.417, 1.404, 1.403, 0.249, 0.236, 0.234]])"
      ]
     },
     "execution_count": 22,
     "metadata": {},
     "output_type": "execute_result"
    }
   ],
   "source": [
    "A_eq"
   ]
  },
  {
   "cell_type": "code",
   "execution_count": 16,
   "metadata": {},
   "outputs": [],
   "source": [
    "b_eq = 12000"
   ]
  },
  {
   "cell_type": "code",
   "execution_count": 24,
   "metadata": {},
   "outputs": [
    {
     "data": {
      "text/plain": [
       "[(100, None),\n",
       " (100, None),\n",
       " (100, None),\n",
       " (150, None),\n",
       " (100, None),\n",
       " (200, None),\n",
       " (100, None),\n",
       " (100, None),\n",
       " (100, None)]"
      ]
     },
     "execution_count": 24,
     "metadata": {},
     "output_type": "execute_result"
    }
   ],
   "source": [
    "bounds"
   ]
  },
  {
   "cell_type": "code",
   "execution_count": 30,
   "metadata": {},
   "outputs": [],
   "source": [
    "res = linprog(c, A_ub=A_ub, b_ub=b_ub, A_eq=A_eq, b_eq=b_eq, bounds=bounds)"
   ]
  },
  {
   "cell_type": "code",
   "execution_count": 31,
   "metadata": {},
   "outputs": [
    {
     "data": {
      "text/plain": [
       "     con: array([2.71047793e-06])\n",
       "     fun: -95606096.01017796\n",
       " message: 'Optimization terminated successfully.'\n",
       "     nit: 6\n",
       "   slack: array([3895.25000271, 9905.        , 4905.2       , 1287.45      ,\n",
       "        659.6       ,  719.4       , 1475.1       ,  876.4       ,\n",
       "       1976.6       ])\n",
       "  status: 0\n",
       " success: True\n",
       "       x: array([11591.59707441,   100.        ,   100.        ,   150.        ,\n",
       "         100.        ,   200.        ,   100.        ,   100.        ,\n",
       "         100.        ])"
      ]
     },
     "execution_count": 31,
     "metadata": {},
     "output_type": "execute_result"
    }
   ],
   "source": [
    "res"
   ]
  },
  {
   "cell_type": "code",
   "execution_count": null,
   "metadata": {},
   "outputs": [],
   "source": []
  },
  {
   "cell_type": "code",
   "execution_count": 19,
   "metadata": {},
   "outputs": [
    {
     "data": {
      "text/plain": [
       "12541.59707724"
      ]
     },
     "execution_count": 19,
     "metadata": {},
     "output_type": "execute_result"
    }
   ],
   "source": [
    "sum([11591.59707724,   100.        ,   100.        ,   150.        ,\n",
    "         100.        ,   200.        ,   100.        ,   100.        ,\n",
    "         100.        ])"
   ]
  },
  {
   "cell_type": "code",
   "execution_count": null,
   "metadata": {},
   "outputs": [],
   "source": []
  }
 ],
 "metadata": {
  "kernelspec": {
   "display_name": "Python 3",
   "language": "python",
   "name": "python3"
  },
  "language_info": {
   "codemirror_mode": {
    "name": "ipython",
    "version": 3
   },
   "file_extension": ".py",
   "mimetype": "text/x-python",
   "name": "python",
   "nbconvert_exporter": "python",
   "pygments_lexer": "ipython3",
   "version": "3.8.5"
  }
 },
 "nbformat": 4,
 "nbformat_minor": 4
}
